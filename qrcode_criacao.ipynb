{
 "cells": [
  {
   "cell_type": "code",
   "execution_count": 2,
   "id": "4ece532f",
   "metadata": {
    "scrolled": true
   },
   "outputs": [
    {
     "name": "stdout",
     "output_type": "stream",
     "text": [
      "Collecting qrcode\n",
      "  Using cached qrcode-7.3.1.tar.gz (43 kB)\n",
      "Requirement already satisfied: colorama in c:\\users\\cpd\\raytech\\anaconda3\\lib\\site-packages (from qrcode) (0.4.4)\n",
      "Building wheels for collected packages: qrcode\n",
      "  Building wheel for qrcode (setup.py): started\n",
      "  Building wheel for qrcode (setup.py): finished with status 'done'\n",
      "  Created wheel for qrcode: filename=qrcode-7.3.1-py3-none-any.whl size=40401 sha256=aaa5b30188f9775e56daa17d9765796dc89e5d290952f304fef3f03b8b7ae6cc\n",
      "  Stored in directory: c:\\users\\cpd\\appdata\\local\\pip\\cache\\wheels\\93\\54\\16\\55cec87f8d902ed84b94ab8fdb7e89ae1158c06e130bc83b03\n",
      "Successfully built qrcode\n",
      "Installing collected packages: qrcode\n",
      "Successfully installed qrcode-7.3.1\n"
     ]
    }
   ],
   "source": [
    "!pip install qrcode\n"
   ]
  },
  {
   "cell_type": "code",
   "execution_count": 7,
   "id": "b9d50d00",
   "metadata": {},
   "outputs": [],
   "source": [
    "import qrcode\n",
    "meu_qrcode = qrcode.make('https://www.youtube.com/channel/UCGf084_DzlAOkkhvH0F44EA')\n",
    "meu_qrcode.save('QRCode youtube.png')\n"
   ]
  },
  {
   "cell_type": "code",
   "execution_count": null,
   "id": "672cbef6",
   "metadata": {},
   "outputs": [],
   "source": []
  }
 ],
 "metadata": {
  "kernelspec": {
   "display_name": "Python 3 (ipykernel)",
   "language": "python",
   "name": "python3"
  },
  "language_info": {
   "codemirror_mode": {
    "name": "ipython",
    "version": 3
   },
   "file_extension": ".py",
   "mimetype": "text/x-python",
   "name": "python",
   "nbconvert_exporter": "python",
   "pygments_lexer": "ipython3",
   "version": "3.9.12"
  }
 },
 "nbformat": 4,
 "nbformat_minor": 5
}
